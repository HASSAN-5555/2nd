{
 "cells": [
  {
   "cell_type": "markdown",
   "metadata": {},
   "source": [
    "Task 1:printing message"
   ]
  },
  {
   "cell_type": "code",
   "execution_count": 1,
   "metadata": {},
   "outputs": [
    {
     "name": "stdout",
     "output_type": "stream",
     "text": [
      "Hello, everyone! I am learning Python. 😄\n"
     ]
    }
   ],
   "source": [
    "print(\"Hello, everyone! I am learning Python. 😄\")"
   ]
  },
  {
   "cell_type": "markdown",
   "metadata": {},
   "source": [
    "Task 2: Declaring Variables"
   ]
  },
  {
   "cell_type": "code",
   "execution_count": 2,
   "metadata": {},
   "outputs": [
    {
     "name": "stdout",
     "output_type": "stream",
     "text": [
      "Hassan\n",
      "19\n",
      "tiger\n"
     ]
    }
   ],
   "source": [
    "name = \"Hassan\"\n",
    "age= 19\n",
    "animal=\"tiger\"\n",
    "print(name)\n",
    "print(age)\n",
    "print(animal)\n"
   ]
  },
  {
   "cell_type": "markdown",
   "metadata": {},
   "source": [
    "Task 3: Combining Variables in a Message"
   ]
  },
  {
   "cell_type": "code",
   "execution_count": 3,
   "metadata": {},
   "outputs": [
    {
     "name": "stdout",
     "output_type": "stream",
     "text": [
      "My name is Hassan, I am 19 years old, and I love tiger!\n"
     ]
    }
   ],
   "source": [
    "name = \"Hassan\"\n",
    "age= 19\n",
    "animal=\"tiger\"\n",
    "text= f\"My name is {name}, I am {age} years old, and I love {animal}!\"\n",
    "print (text)"
   ]
  },
  {
   "cell_type": "markdown",
   "metadata": {},
   "source": [
    "Task 4: Playing with Different Data Types"
   ]
  },
  {
   "cell_type": "code",
   "execution_count": 4,
   "metadata": {},
   "outputs": [
    {
     "name": "stdout",
     "output_type": "stream",
     "text": [
      "bahuballi\n",
      "2005\n",
      "70.5\n"
     ]
    }
   ],
   "source": [
    "# Declaring variables of different types\n",
    "favorite_movie = \"bahuballi\"  # String type\n",
    "birth_year = 2005           # Integer type\n",
    "favorite_snack_price = 70.50  # Float type\n",
    "\n",
    "# Printing each variable on a separate line\n",
    "print(favorite_movie)\n",
    "print(birth_year)\n",
    "print(favorite_snack_price)\n"
   ]
  },
  {
   "cell_type": "markdown",
   "metadata": {},
   "source": [
    "Task 5: Your Favorite Hobby\n"
   ]
  },
  {
   "cell_type": "code",
   "execution_count": 5,
   "metadata": {},
   "outputs": [
    {
     "name": "stdout",
     "output_type": "stream",
     "text": [
      "my hobby is reading books\n"
     ]
    }
   ],
   "source": [
    "hobby= \"reading books\"\n",
    "print(f\"my hobby is {hobby}\")"
   ]
  }
 ],
 "metadata": {
  "kernelspec": {
   "display_name": "Python 3",
   "language": "python",
   "name": "python3"
  },
  "language_info": {
   "codemirror_mode": {
    "name": "ipython",
    "version": 3
   },
   "file_extension": ".py",
   "mimetype": "text/x-python",
   "name": "python",
   "nbconvert_exporter": "python",
   "pygments_lexer": "ipython3",
   "version": "3.13.1"
  }
 },
 "nbformat": 4,
 "nbformat_minor": 2
}
